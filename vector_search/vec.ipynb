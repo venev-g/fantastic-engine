{
 "cells": [
  {
   "cell_type": "code",
   "execution_count": 2,
   "id": "c50fdd33",
   "metadata": {},
   "outputs": [],
   "source": [
    "from sentence_transformers import SentenceTransformer\n",
    "from tqdm.auto import tqdm as notebook_tqdm"
   ]
  },
  {
   "cell_type": "code",
   "execution_count": 3,
   "id": "ac777aea",
   "metadata": {},
   "outputs": [],
   "source": [
    "model = SentenceTransformer('sentence-transformers/all-MiniLM-L6-v2')"
   ]
  },
  {
   "cell_type": "code",
   "execution_count": 4,
   "id": "10efd6d4",
   "metadata": {},
   "outputs": [],
   "source": [
    "# Example corpus\n",
    "documents = [\n",
    "    \"Machine learning enables computers to learn from data.\",\n",
    "    \"Cats and dogs can be great pets.\",\n",
    "    \"Quantum physics explores the behavior of particles.\"\n",
    "]"
   ]
  },
  {
   "cell_type": "code",
   "execution_count": 5,
   "id": "d78c0006",
   "metadata": {},
   "outputs": [
    {
     "name": "stderr",
     "output_type": "stream",
     "text": [
      "Batches: 100%|██████████| 1/1 [00:00<00:00, 48.04it/s]"
     ]
    },
    {
     "name": "stdout",
     "output_type": "stream",
     "text": [
      "Embeddings shape: (3, 384)\n"
     ]
    },
    {
     "name": "stderr",
     "output_type": "stream",
     "text": [
      "\n"
     ]
    }
   ],
   "source": [
    "# Compute embeddings (each document -> 384-dimensional vector)\n",
    "embeddings = model.encode(documents, show_progress_bar=True)\n",
    "print(\"Embeddings shape:\", embeddings.shape)\n"
   ]
  },
  {
   "cell_type": "code",
   "execution_count": 13,
   "id": "3b2fe6af",
   "metadata": {},
   "outputs": [
    {
     "name": "stdout",
     "output_type": "stream",
     "text": [
      "Document 0: Machine learning enables computers to learn from data.\n",
      "Top 10 dimensions of the embedding: [-0.01599952  0.01208692  0.08066807  0.01379563  0.02841322 -0.0147575\n",
      " -0.03639276 -0.0995675   0.0190883   0.00763975]\n",
      "\n",
      "Document 1: Cats and dogs can be great pets.\n",
      "Top 10 dimensions of the embedding: [ 4.72100601e-02  3.04640089e-05  7.89149627e-02  3.25913467e-02\n",
      " -1.09277025e-01  1.97223872e-02 -1.91940013e-02 -7.74343833e-02\n",
      " -1.89232938e-02  2.05149129e-02]\n",
      "\n",
      "Document 2: Quantum physics explores the behavior of particles.\n",
      "Top 10 dimensions of the embedding: [-0.06063841 -0.04609358 -0.01987925  0.13131666 -0.03221935  0.05527749\n",
      " -0.01502854 -0.03053921  0.02734886  0.04802484]\n",
      "\n"
     ]
    }
   ],
   "source": [
    "# display embeddings for each document with top 10 dimensions\n",
    "for i, doc in enumerate(documents):\n",
    "    print(f\"Document {i}: {doc}\")\n",
    "    print(\"Top 10 dimensions of the embedding:\", embeddings[i][:10])\n",
    "    print()"
   ]
  },
  {
   "cell_type": "code",
   "execution_count": 7,
   "id": "37d807c3",
   "metadata": {},
   "outputs": [
    {
     "name": "stderr",
     "output_type": "stream",
     "text": [
      "huggingface/tokenizers: The current process just got forked, after parallelism has already been used. Disabling parallelism to avoid deadlocks...\n",
      "To disable this warning, you can either:\n",
      "\t- Avoid using `tokenizers` before the fork if possible\n",
      "\t- Explicitly set the environment variable TOKENIZERS_PARALLELISM=(true | false)\n"
     ]
    },
    {
     "name": "stdout",
     "output_type": "stream",
     "text": [
      "\n",
      "\u001b[1m[\u001b[0m\u001b[34;49mnotice\u001b[0m\u001b[1;39;49m]\u001b[0m\u001b[39;49m A new release of pip is available: \u001b[0m\u001b[31;49m25.0.1\u001b[0m\u001b[39;49m -> \u001b[0m\u001b[32;49m25.1\u001b[0m\n",
      "\u001b[1m[\u001b[0m\u001b[34;49mnotice\u001b[0m\u001b[1;39;49m]\u001b[0m\u001b[39;49m To update, run: \u001b[0m\u001b[32;49mpython3 -m pip install --upgrade pip\u001b[0m\n"
     ]
    }
   ],
   "source": [
    "!pip install faiss-cpu --quiet\n",
    "import numpy as np\n",
    "import faiss"
   ]
  },
  {
   "cell_type": "code",
   "execution_count": 8,
   "id": "8c16d0f3",
   "metadata": {},
   "outputs": [],
   "source": [
    "# Create a FAISS index for 384-dimensional vectors using Euclidean (L2) distance\n",
    "dim = embeddings.shape[1]\n",
    "index = faiss.IndexFlatL2(dim)\n",
    "index.add(np.array(embeddings))  # add all document vectors to the index"
   ]
  },
  {
   "cell_type": "code",
   "execution_count": 9,
   "id": "5de9ab04",
   "metadata": {},
   "outputs": [
    {
     "data": {
      "text/plain": [
       "<faiss.swigfaiss_avx2.IndexFlatL2; proxy of <Swig Object of type 'faiss::IndexFlatL2 *' at 0x70b41c075f20> >"
      ]
     },
     "execution_count": 9,
     "metadata": {},
     "output_type": "execute_result"
    }
   ],
   "source": [
    "index"
   ]
  },
  {
   "cell_type": "code",
   "execution_count": 10,
   "id": "42cc0883",
   "metadata": {},
   "outputs": [
    {
     "name": "stdout",
     "output_type": "stream",
     "text": [
      "Nearest document indices: [1 2]\n",
      "Distances: [0.7805519 1.8087312]\n",
      "Nearest documents: ['Cats and dogs can be great pets.', 'Quantum physics explores the behavior of particles.']\n"
     ]
    }
   ],
   "source": [
    "# Query example: semantic search for \"pet animals\"\n",
    "query = \"favorite pets\"\n",
    "query_vec = model.encode([query])       # embed the query\n",
    "D, I = index.search(query_vec, k=2)     # find 2 nearest neighbors\n",
    "\n",
    "print(\"Nearest document indices:\", I[0])\n",
    "print(\"Distances:\", D[0])\n",
    "print(\"Nearest documents:\", [documents[i] for i in I[0]])"
   ]
  }
 ],
 "metadata": {
  "kernelspec": {
   "display_name": "Python 3",
   "language": "python",
   "name": "python3"
  },
  "language_info": {
   "codemirror_mode": {
    "name": "ipython",
    "version": 3
   },
   "file_extension": ".py",
   "mimetype": "text/x-python",
   "name": "python",
   "nbconvert_exporter": "python",
   "pygments_lexer": "ipython3",
   "version": "3.12.1"
  }
 },
 "nbformat": 4,
 "nbformat_minor": 5
}
